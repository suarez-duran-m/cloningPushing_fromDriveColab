{
 "cells": [
  {
   "cell_type": "markdown",
   "metadata": {},
   "source": [
    "# Sync directory-repo from Google Drive to GitHub, via Google Colab"
   ]
  },
  {
   "cell_type": "code",
   "execution_count": 1,
   "metadata": {},
   "outputs": [
    {
     "data": {
      "text/html": [
       "\n",
       "        <iframe\n",
       "            width=\"400\"\n",
       "            height=\"300\"\n",
       "            src=\"https://www.youtube.com/embed/fhhW6ZSwz2Y\"\n",
       "            frameborder=\"0\"\n",
       "            allowfullscreen\n",
       "        ></iframe>\n",
       "        "
      ],
      "text/plain": [
       "<IPython.lib.display.YouTubeVideo at 0x7f7eb46458d0>"
      ]
     },
     "execution_count": 1,
     "metadata": {},
     "output_type": "execute_result"
    }
   ],
   "source": [
    "from IPython.display import YouTubeVideo\n",
    "YouTubeVideo('fhhW6ZSwz2Y')"
   ]
  },
  {
   "cell_type": "code",
   "execution_count": null,
   "metadata": {},
   "outputs": [],
   "source": [
    "from google.colab import drive\n",
    "from os.path import join"
   ]
  },
  {
   "cell_type": "code",
   "execution_count": null,
   "metadata": {},
   "outputs": [],
   "source": [
    "ROOT = '/content/drive'     # default for the drive\n",
    "PROJ = 'My Drive/cloningPushingDriveColab'       # path to your project on Drive\n",
    "\n",
    "GIT_USERNAME = \"suarez-duran-m\" # replace with yours\n",
    "GIT_TOKEN = \"7fa7b2f86826d0795fa638db46d89340fddcd4e7\"           # definitely replace with yours\n",
    "GIT_REPOSITORY = \"/suarez-duran-m/cloningPushing_fromDriveColab\"      # ...nah\n",
    "GIT_PATH = \"https://7fa7b2f86826d0795fa638db46d89340fddcd4e7@github.com/suarez-duran-m/cloningPushing_fromDriveColab.git\"\n",
    "drive.mount(ROOT)           # we mount the drive at /content/drive"
   ]
  },
  {
   "cell_type": "code",
   "execution_count": null,
   "metadata": {},
   "outputs": [],
   "source": [
    "%cd \"{PROJECT_PATH}\"/cloningPushing_fromDriveColab/\n",
    "!ls\n",
    "!git config --global user.email \"mauricio.suarez@unipamplona.edu.co\"\n",
    "!git config --global user.name \"suarez-duran-m\"\n",
    "\n",
    "!git remote rm origin\n",
    "\n",
    "!git config --global github.user suarez-duran-m\n",
    "!git config --global github.token \"{GIT_TOKEN}\"\n",
    "\n",
    "!git add *\n",
    "!git commit -m \"NoteBook with instruction created.\"\n",
    "\n",
    "!git remote add origin https://\"{GIT_TOKEN}\"@github.com/\"{GIT_REPOSITORY}\".git\n",
    "\n",
    "!git push -u origin master"
   ]
  }
 ],
 "metadata": {
  "kernelspec": {
   "display_name": "Python 3",
   "language": "python",
   "name": "python3"
  },
  "language_info": {
   "codemirror_mode": {
    "name": "ipython",
    "version": 3
   },
   "file_extension": ".py",
   "mimetype": "text/x-python",
   "name": "python",
   "nbconvert_exporter": "python",
   "pygments_lexer": "ipython3",
   "version": "3.5.2"
  }
 },
 "nbformat": 4,
 "nbformat_minor": 2
}
